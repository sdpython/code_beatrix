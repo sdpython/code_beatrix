{
  "cells": [
    {
      "cell_type": "markdown",
      "metadata": {},
      "source": [
        "# Snap - partir d'un projet existant\n",
        "\n",
        "Snap ou Scratch dans un notebook. On s'assure d'abord que les fichiers javascript de *Snap* sont accessibles depuis le serveur IPython :"
      ]
    },
    {
      "cell_type": "code",
      "execution_count": null,
      "metadata": {
        "scrolled": false
      },
      "outputs": [
        {
          "data": {
            "text/plain": [
              "[('>+',\n",
              "  <pyquickhelper.filehelper.file_tree_node.FileTreeNode at 0x2981ff1f518>,\n",
              "  'c:\\\\Python36_x64\\\\lib\\\\site-packages\\\\notebook-5.0.0-py3.6.egg\\\\notebook\\\\static\\\\snap'),\n",
              " ('>+',\n",
              "  <pyquickhelper.filehelper.file_tree_node.FileTreeNode at 0x2981ff51320>,\n",
              "  'c:\\\\Python36_x64\\\\lib\\\\site-packages\\\\notebook-5.0.0-py3.6.egg\\\\notebook\\\\static\\\\snap'),\n",
              " ('>+',\n",
              "  <pyquickhelper.filehelper.file_tree_node.FileTreeNode at 0x2981ff35da0>,\n",
              "  'c:\\\\Python36_x64\\\\lib\\\\site-packages\\\\notebook-5.0.0-py3.6.egg\\\\notebook\\\\static\\\\snap'),\n",
              " ('>+',\n",
              "  <pyquickhelper.filehelper.file_tree_node.FileTreeNode at 0x2981ffaca58>,\n",
              "  'c:\\\\Python36_x64\\\\lib\\\\site-packages\\\\notebook-5.0.0-py3.6.egg\\\\notebook\\\\static\\\\snap'),\n",
              " ('>+',\n",
              "  <pyquickhelper.filehelper.file_tree_node.FileTreeNode at 0x2981ffacf60>,\n",
              "  'c:\\\\Python36_x64\\\\lib\\\\site-packages\\\\notebook-5.0.0-py3.6.egg\\\\notebook\\\\static\\\\snap'),\n",
              " ('>-',\n",
              "  None,\n",
              "  <pyquickhelper.filehelper.file_tree_node.FileTreeNode at 0x2982003dd68>)]"
            ]
          },
          "execution_count": null,
          "metadata": {},
          "output_type": "execute_result"
        }
      ],
      "source": [
        "from code_beatrix.jsscripts import copy_jstool2notebook\n",
        "%load_ext code_beatrix\n",
        "copy_jstool2notebook(\"snap\")"
      ]
    },
    {
      "cell_type": "markdown",
      "metadata": {},
      "source": [
        "Si le r\u00e9sultat est une liste vide, cela signifie que cela a d\u00e9j\u00e0 \u00e9t\u00e9 fait."
      ]
    },
    {
      "cell_type": "code",
      "execution_count": null,
      "metadata": {},
      "outputs": [
        {
          "name": "stdout",
          "output_type": "stream",
          "text": [
            "usage: snap [-h] [-f FILE] [-d DIV] [-W WIDTH] [-H HEIGHT]\n",
            "\n",
            "insert a snap window inside a notebook\n",
            "\n",
            "optional arguments:\n",
            "  -h, --help            show this help message and exit\n",
            "  -f FILE, --file FILE  scratch or snap file to display\n",
            "  -d DIV, --div DIV     id for the HTML div\n",
            "  -W WIDTH, --width WIDTH\n",
            "                        window width\n",
            "  -H HEIGHT, --height HEIGHT\n",
            "                        window height\n",
            "usage: snap [-h] [-f FILE] [-d DIV] [-W WIDTH] [-H HEIGHT]\n",
            "\n"
          ]
        }
      ],
      "source": [
        "%snap --help"
      ]
    },
    {
      "cell_type": "code",
      "execution_count": null,
      "metadata": {},
      "outputs": [
        {
          "data": {
            "text/html": [
              "\n",
              "            <div id=\"31334e4ded66469fba4ab682502692b7div\" style=\"position:relative; width:1000px; height:600px;\">\n",
              "            Snap showing up soon...\n",
              "            <canvas id=\"31334e4ded66469fba4ab682502692b7\" style=\"width:1000px; height:600px; position:relative; \" />\n",
              "            </div>\n",
              "            <script type=\"text/javascript\" src=\"/static/snap/blocks.js\"></script>\n",
              "<script type=\"text/javascript\" src=\"/static/snap/byob.js\"></script>\n",
              "<script type=\"text/javascript\" src=\"/static/snap/cloud.js\"></script>\n",
              "<script type=\"text/javascript\" src=\"/static/snap/FileSaver.min.js\"></script>\n",
              "<script type=\"text/javascript\" src=\"/static/snap/gui.js\"></script>\n",
              "<script type=\"text/javascript\" src=\"/static/snap/lang-ar.js\"></script>\n",
              "<script type=\"text/javascript\" src=\"/static/snap/lang-bg.js\"></script>\n",
              "<script type=\"text/javascript\" src=\"/static/snap/lang-bn.js\"></script>\n",
              "<script type=\"text/javascript\" src=\"/static/snap/lang-ca.js\"></script>\n",
              "<script type=\"text/javascript\" src=\"/static/snap/lang-cs.js\"></script>\n",
              "<script type=\"text/javascript\" src=\"/static/snap/lang-de.js\"></script>\n",
              "<script type=\"text/javascript\" src=\"/static/snap/lang-dk.js\"></script>\n",
              "<script type=\"text/javascript\" src=\"/static/snap/lang-el.js\"></script>\n",
              "<script type=\"text/javascript\" src=\"/static/snap/lang-eo.js\"></script>\n",
              "<script type=\"text/javascript\" src=\"/static/snap/lang-es.js\"></script>\n",
              "<script type=\"text/javascript\" src=\"/static/snap/lang-et.js\"></script>\n",
              "<script type=\"text/javascript\" src=\"/static/snap/lang-fi.js\"></script>\n",
              "<script type=\"text/javascript\" src=\"/static/snap/lang-fr.js\"></script>\n",
              "<script type=\"text/javascript\" src=\"/static/snap/lang-gl.js\"></script>\n",
              "<script type=\"text/javascript\" src=\"/static/snap/lang-hr.js\"></script>\n",
              "<script type=\"text/javascript\" src=\"/static/snap/lang-hu.js\"></script>\n",
              "<script type=\"text/javascript\" src=\"/static/snap/lang-ia.js\"></script>\n",
              "<script type=\"text/javascript\" src=\"/static/snap/lang-id.js\"></script>\n",
              "<script type=\"text/javascript\" src=\"/static/snap/lang-it.js\"></script>\n",
              "<script type=\"text/javascript\" src=\"/static/snap/lang-ja.js\"></script>\n",
              "<script type=\"text/javascript\" src=\"/static/snap/lang-ja_HIRA.js\"></script>\n",
              "<script type=\"text/javascript\" src=\"/static/snap/lang-kn.js\"></script>\n",
              "<script type=\"text/javascript\" src=\"/static/snap/lang-ko.js\"></script>\n",
              "<script type=\"text/javascript\" src=\"/static/snap/lang-ml.js\"></script>\n",
              "<script type=\"text/javascript\" src=\"/static/snap/lang-nl.js\"></script>\n",
              "<script type=\"text/javascript\" src=\"/static/snap/lang-no.js\"></script>\n",
              "<script type=\"text/javascript\" src=\"/static/snap/lang-pl.js\"></script>\n",
              "<script type=\"text/javascript\" src=\"/static/snap/lang-pt.js\"></script>\n",
              "<script type=\"text/javascript\" src=\"/static/snap/lang-pt_BR.js\"></script>\n",
              "<script type=\"text/javascript\" src=\"/static/snap/lang-ro.js\"></script>\n",
              "<script type=\"text/javascript\" src=\"/static/snap/lang-ru.js\"></script>\n",
              "<script type=\"text/javascript\" src=\"/static/snap/lang-si.js\"></script>\n",
              "<script type=\"text/javascript\" src=\"/static/snap/lang-sv.js\"></script>\n",
              "<script type=\"text/javascript\" src=\"/static/snap/lang-ta.js\"></script>\n",
              "<script type=\"text/javascript\" src=\"/static/snap/lang-te.js\"></script>\n",
              "<script type=\"text/javascript\" src=\"/static/snap/lang-tr.js\"></script>\n",
              "<script type=\"text/javascript\" src=\"/static/snap/lang-zh_CN.js\"></script>\n",
              "<script type=\"text/javascript\" src=\"/static/snap/lang-zh_TW.js\"></script>\n",
              "<script type=\"text/javascript\" src=\"/static/snap/lists.js\"></script>\n",
              "<script type=\"text/javascript\" src=\"/static/snap/locale.js\"></script>\n",
              "<script type=\"text/javascript\" src=\"/static/snap/morphic.js\"></script>\n",
              "<script type=\"text/javascript\" src=\"/static/snap/objects.js\"></script>\n",
              "<script type=\"text/javascript\" src=\"/static/snap/paint.js\"></script>\n",
              "<script type=\"text/javascript\" src=\"/static/snap/sha512.js\"></script>\n",
              "<script type=\"text/javascript\" src=\"/static/snap/store.js\"></script>\n",
              "<script type=\"text/javascript\" src=\"/static/snap/tables.js\"></script>\n",
              "<script type=\"text/javascript\" src=\"/static/snap/threads.js\"></script>\n",
              "<script type=\"text/javascript\" src=\"/static/snap/widgets.js\"></script>\n",
              "<script type=\"text/javascript\" src=\"/static/snap/xml.js\"></script>\n",
              "<script type=\"text/javascript\" src=\"/static/snap/ypr.js\"></script>\n",
              "<script>\n",
              "                     var world31334e4ded66469fba4ab682502692b7;\n",
              "                     function loop31334e4ded66469fba4ab682502692b7() {\n",
              "                        world31334e4ded66469fba4ab682502692b7.doOneCycle();\n",
              "                     }\n",
              "                     function start_snap31334e4ded66469fba4ab682502692b7() {\n",
              "                        var sec = document.getElementsByClassName(\"31334e4ded66469fba4ab682502692b7div\");\n",
              "                        sec.innerHTML = \"loading...\";\n",
              "                        world31334e4ded66469fba4ab682502692b7 = new WorldMorph(document.getElementById('31334e4ded66469fba4ab682502692b7'));\n",
              "                        world31334e4ded66469fba4ab682502692b7.worldCanvas.focus();\n",
              "                        new IDE_Morph().openIn(world31334e4ded66469fba4ab682502692b7);\n",
              "                        setInterval(loop31334e4ded66469fba4ab682502692b7, 1);\n",
              "                        sec.innerHTML = \"\";\n",
              "                     }\n",
              "                     window.setTimeout(start_snap31334e4ded66469fba4ab682502692b7,500);\n",
              "                     </script>\n",
              "                     "
            ],
            "text/plain": [
              "<code_beatrix.jsscripts.nbsnap.RenderSnap at 0x298200b0080>"
            ]
          },
          "execution_count": null,
          "metadata": {},
          "output_type": "execute_result"
        }
      ],
      "source": [
        "# pas encore parfait, il faut mieux utiliser l'autre notebook.\n",
        "from code_beatrix.jsscripts.nbsnap import RenderSnap\n",
        "RenderSnap()"
      ]
    },
    {
      "cell_type": "code",
      "execution_count": null,
      "metadata": {
        "scrolled": false
      },
      "outputs": [
        {
          "data": {
            "text/html": [
              "\n",
              "            <div id=\"scratch_div_id_2df259285c4546e698ec2048a37c82addiv\" style=\"position:relative; width:600px; height:1000px;\">\n",
              "            Snap showing up soon...\n",
              "            <canvas id=\"scratch_div_id_2df259285c4546e698ec2048a37c82ad\" style=\"width:600px; height:1000px; position:relative; \" />\n",
              "            </div>\n",
              "            <script type=\"text/javascript\" src=\"/static/snap/blocks.js\"></script>\n",
              "<script type=\"text/javascript\" src=\"/static/snap/byob.js\"></script>\n",
              "<script type=\"text/javascript\" src=\"/static/snap/cloud.js\"></script>\n",
              "<script type=\"text/javascript\" src=\"/static/snap/FileSaver.min.js\"></script>\n",
              "<script type=\"text/javascript\" src=\"/static/snap/gui.js\"></script>\n",
              "<script type=\"text/javascript\" src=\"/static/snap/lang-ar.js\"></script>\n",
              "<script type=\"text/javascript\" src=\"/static/snap/lang-bg.js\"></script>\n",
              "<script type=\"text/javascript\" src=\"/static/snap/lang-bn.js\"></script>\n",
              "<script type=\"text/javascript\" src=\"/static/snap/lang-ca.js\"></script>\n",
              "<script type=\"text/javascript\" src=\"/static/snap/lang-cs.js\"></script>\n",
              "<script type=\"text/javascript\" src=\"/static/snap/lang-de.js\"></script>\n",
              "<script type=\"text/javascript\" src=\"/static/snap/lang-dk.js\"></script>\n",
              "<script type=\"text/javascript\" src=\"/static/snap/lang-el.js\"></script>\n",
              "<script type=\"text/javascript\" src=\"/static/snap/lang-eo.js\"></script>\n",
              "<script type=\"text/javascript\" src=\"/static/snap/lang-es.js\"></script>\n",
              "<script type=\"text/javascript\" src=\"/static/snap/lang-et.js\"></script>\n",
              "<script type=\"text/javascript\" src=\"/static/snap/lang-fi.js\"></script>\n",
              "<script type=\"text/javascript\" src=\"/static/snap/lang-fr.js\"></script>\n",
              "<script type=\"text/javascript\" src=\"/static/snap/lang-gl.js\"></script>\n",
              "<script type=\"text/javascript\" src=\"/static/snap/lang-hr.js\"></script>\n",
              "<script type=\"text/javascript\" src=\"/static/snap/lang-hu.js\"></script>\n",
              "<script type=\"text/javascript\" src=\"/static/snap/lang-ia.js\"></script>\n",
              "<script type=\"text/javascript\" src=\"/static/snap/lang-id.js\"></script>\n",
              "<script type=\"text/javascript\" src=\"/static/snap/lang-it.js\"></script>\n",
              "<script type=\"text/javascript\" src=\"/static/snap/lang-ja.js\"></script>\n",
              "<script type=\"text/javascript\" src=\"/static/snap/lang-ja_HIRA.js\"></script>\n",
              "<script type=\"text/javascript\" src=\"/static/snap/lang-kn.js\"></script>\n",
              "<script type=\"text/javascript\" src=\"/static/snap/lang-ko.js\"></script>\n",
              "<script type=\"text/javascript\" src=\"/static/snap/lang-ml.js\"></script>\n",
              "<script type=\"text/javascript\" src=\"/static/snap/lang-nl.js\"></script>\n",
              "<script type=\"text/javascript\" src=\"/static/snap/lang-no.js\"></script>\n",
              "<script type=\"text/javascript\" src=\"/static/snap/lang-pl.js\"></script>\n",
              "<script type=\"text/javascript\" src=\"/static/snap/lang-pt.js\"></script>\n",
              "<script type=\"text/javascript\" src=\"/static/snap/lang-pt_BR.js\"></script>\n",
              "<script type=\"text/javascript\" src=\"/static/snap/lang-ro.js\"></script>\n",
              "<script type=\"text/javascript\" src=\"/static/snap/lang-ru.js\"></script>\n",
              "<script type=\"text/javascript\" src=\"/static/snap/lang-si.js\"></script>\n",
              "<script type=\"text/javascript\" src=\"/static/snap/lang-sv.js\"></script>\n",
              "<script type=\"text/javascript\" src=\"/static/snap/lang-ta.js\"></script>\n",
              "<script type=\"text/javascript\" src=\"/static/snap/lang-te.js\"></script>\n",
              "<script type=\"text/javascript\" src=\"/static/snap/lang-tr.js\"></script>\n",
              "<script type=\"text/javascript\" src=\"/static/snap/lang-zh_CN.js\"></script>\n",
              "<script type=\"text/javascript\" src=\"/static/snap/lang-zh_TW.js\"></script>\n",
              "<script type=\"text/javascript\" src=\"/static/snap/lists.js\"></script>\n",
              "<script type=\"text/javascript\" src=\"/static/snap/locale.js\"></script>\n",
              "<script type=\"text/javascript\" src=\"/static/snap/morphic.js\"></script>\n",
              "<script type=\"text/javascript\" src=\"/static/snap/objects.js\"></script>\n",
              "<script type=\"text/javascript\" src=\"/static/snap/paint.js\"></script>\n",
              "<script type=\"text/javascript\" src=\"/static/snap/sha512.js\"></script>\n",
              "<script type=\"text/javascript\" src=\"/static/snap/store.js\"></script>\n",
              "<script type=\"text/javascript\" src=\"/static/snap/tables.js\"></script>\n",
              "<script type=\"text/javascript\" src=\"/static/snap/threads.js\"></script>\n",
              "<script type=\"text/javascript\" src=\"/static/snap/widgets.js\"></script>\n",
              "<script type=\"text/javascript\" src=\"/static/snap/xml.js\"></script>\n",
              "<script type=\"text/javascript\" src=\"/static/snap/ypr.js\"></script>\n",
              "<script>\n",
              "                     var worldscratch_div_id_2df259285c4546e698ec2048a37c82ad;\n",
              "                     function loopscratch_div_id_2df259285c4546e698ec2048a37c82ad() {\n",
              "                        worldscratch_div_id_2df259285c4546e698ec2048a37c82ad.doOneCycle();\n",
              "                     }\n",
              "                     function start_snapscratch_div_id_2df259285c4546e698ec2048a37c82ad() {\n",
              "                        var sec = document.getElementsByClassName(\"scratch_div_id_2df259285c4546e698ec2048a37c82addiv\");\n",
              "                        sec.innerHTML = \"loading...\";\n",
              "                        worldscratch_div_id_2df259285c4546e698ec2048a37c82ad = new WorldMorph(document.getElementById('scratch_div_id_2df259285c4546e698ec2048a37c82ad'));\n",
              "                        worldscratch_div_id_2df259285c4546e698ec2048a37c82ad.worldCanvas.focus();\n",
              "                        new IDE_Morph().openIn(worldscratch_div_id_2df259285c4546e698ec2048a37c82ad);\n",
              "                        setInterval(loopscratch_div_id_2df259285c4546e698ec2048a37c82ad, 1);\n",
              "                        sec.innerHTML = \"\";\n",
              "                     }\n",
              "                     window.setTimeout(start_snapscratch_div_id_2df259285c4546e698ec2048a37c82ad,500);\n",
              "                     </script>\n",
              "                     "
            ],
            "text/plain": [
              "<code_beatrix.jsscripts.nbsnap.RenderSnap at 0x29820088da0>"
            ]
          },
          "execution_count": null,
          "metadata": {},
          "output_type": "execute_result"
        }
      ],
      "source": [
        "%snap"
      ]
    },
    {
      "cell_type": "code",
      "execution_count": null,
      "metadata": {
        "collapsed": true
      },
      "outputs": [],
      "source": []
    }
  ],
  "metadata": {
    "kernelspec": {
      "display_name": "Python 3",
      "language": "python",
      "name": "python3"
    },
    "language_info": {
      "codemirror_mode": {
        "name": "ipython",
        "version": 3
      },
      "file_extension": ".py",
      "mimetype": "text/x-python",
      "name": "python",
      "nbconvert_exporter": "python",
      "pygments_lexer": "ipython3",
      "version": "3.6.1"
    }
  },
  "nbformat": 4,
  "nbformat_minor": 1
}