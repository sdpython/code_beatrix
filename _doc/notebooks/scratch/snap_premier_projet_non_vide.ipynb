{
 "cells": [
  {
   "cell_type": "markdown",
   "metadata": {},
   "source": [
    "# Snap - partir d'un projet existant"
   ]
  },
  {
   "cell_type": "markdown",
   "metadata": {},
   "source": [
    "On s'assure d'abord que les fichiers javascript de *Snap* sont accessibles depuis le serveur IPython :"
   ]
  },
  {
   "cell_type": "code",
   "execution_count": 1,
   "metadata": {
    "collapsed": false
   },
   "outputs": [
    {
     "data": {
      "text/plain": [
       "[]"
      ]
     },
     "execution_count": 1,
     "metadata": {},
     "output_type": "execute_result"
    }
   ],
   "source": [
    "from code_beatrix.jsscripts import copy_jstool2ipython\n",
    "%load_ext code_beatrix\n",
    "copy_jstool2ipython(\"snap\")"
   ]
  },
  {
   "cell_type": "markdown",
   "metadata": {},
   "source": [
    "Si le résultat est une liste vide, cela signifie que cela a déjà été fait."
   ]
  },
  {
   "cell_type": "code",
   "execution_count": 2,
   "metadata": {
    "collapsed": false,
    "scrolled": false
   },
   "outputs": [
    {
     "data": {
      "text/html": [
       "<script type=\"text/javascript\" src=\"/static/snap/blocks.js\"></script>\n",
       "<script type=\"text/javascript\" src=\"/static/snap/byob.js\"></script>\n",
       "<script type=\"text/javascript\" src=\"/static/snap/cloud.js\"></script>\n",
       "<script type=\"text/javascript\" src=\"/static/snap/gui.js\"></script>\n",
       "<script type=\"text/javascript\" src=\"/static/snap/lang-bn.js\"></script>\n",
       "<script type=\"text/javascript\" src=\"/static/snap/lang-ca.js\"></script>\n",
       "<script type=\"text/javascript\" src=\"/static/snap/lang-cs.js\"></script>\n",
       "<script type=\"text/javascript\" src=\"/static/snap/lang-de.js\"></script>\n",
       "<script type=\"text/javascript\" src=\"/static/snap/lang-dk.js\"></script>\n",
       "<script type=\"text/javascript\" src=\"/static/snap/lang-el.js\"></script>\n",
       "<script type=\"text/javascript\" src=\"/static/snap/lang-eo.js\"></script>\n",
       "<script type=\"text/javascript\" src=\"/static/snap/lang-es.js\"></script>\n",
       "<script type=\"text/javascript\" src=\"/static/snap/lang-fi.js\"></script>\n",
       "<script type=\"text/javascript\" src=\"/static/snap/lang-fr.js\"></script>\n",
       "<script type=\"text/javascript\" src=\"/static/snap/lang-it.js\"></script>\n",
       "<script type=\"text/javascript\" src=\"/static/snap/lang-ja.js\"></script>\n",
       "<script type=\"text/javascript\" src=\"/static/snap/lang-ja_HIRA.js\"></script>\n",
       "<script type=\"text/javascript\" src=\"/static/snap/lang-kn.js\"></script>\n",
       "<script type=\"text/javascript\" src=\"/static/snap/lang-ko.js\"></script>\n",
       "<script type=\"text/javascript\" src=\"/static/snap/lang-ml.js\"></script>\n",
       "<script type=\"text/javascript\" src=\"/static/snap/lang-nl.js\"></script>\n",
       "<script type=\"text/javascript\" src=\"/static/snap/lang-no.js\"></script>\n",
       "<script type=\"text/javascript\" src=\"/static/snap/lang-pl.js\"></script>\n",
       "<script type=\"text/javascript\" src=\"/static/snap/lang-pt.js\"></script>\n",
       "<script type=\"text/javascript\" src=\"/static/snap/lang-pt_BR.js\"></script>\n",
       "<script type=\"text/javascript\" src=\"/static/snap/lang-ru.js\"></script>\n",
       "<script type=\"text/javascript\" src=\"/static/snap/lang-si.js\"></script>\n",
       "<script type=\"text/javascript\" src=\"/static/snap/lang-sv.js\"></script>\n",
       "<script type=\"text/javascript\" src=\"/static/snap/lang-ta.js\"></script>\n",
       "<script type=\"text/javascript\" src=\"/static/snap/lang-te.js\"></script>\n",
       "<script type=\"text/javascript\" src=\"/static/snap/lang-tw.js\"></script>\n",
       "<script type=\"text/javascript\" src=\"/static/snap/lang-zh.js\"></script>\n",
       "<script type=\"text/javascript\" src=\"/static/snap/lists.js\"></script>\n",
       "<script type=\"text/javascript\" src=\"/static/snap/locale.js\"></script>\n",
       "<script type=\"text/javascript\" src=\"/static/snap/morphic.js\"></script>\n",
       "<script type=\"text/javascript\" src=\"/static/snap/objects.js\"></script>\n",
       "<script type=\"text/javascript\" src=\"/static/snap/paint.js\"></script>\n",
       "<script type=\"text/javascript\" src=\"/static/snap/sha512.js\"></script>\n",
       "<script type=\"text/javascript\" src=\"/static/snap/store.js\"></script>\n",
       "<script type=\"text/javascript\" src=\"/static/snap/threads.js\"></script>\n",
       "<script type=\"text/javascript\" src=\"/static/snap/widgets.js\"></script>\n",
       "<script type=\"text/javascript\" src=\"/static/snap/xml.js\"></script>\n",
       "<script type=\"text/javascript\" src=\"/static/snap/ypr.js\"></script>\n",
       "<script>\n",
       "                         var worldscratch_div_id_49529;\n",
       "                         function loopscratch_div_id_49529() {\n",
       "                            worldscratch_div_id_49529.doOneCycle();\n",
       "                         }\n",
       "                         function start_snapscratch_div_id_49529() {\n",
       "                            var sec = document.getElementsByClassName(\"scratch_div_id_49529div\");\n",
       "                            sec.innerHTML = \"loading...\";\n",
       "                            worldscratch_div_id_49529 = new WorldMorph(document.getElementById('scratch_div_id_49529'));\n",
       "                            worldscratch_div_id_49529.worldCanvas.focus();\n",
       "                            new IDE_Morph().openIn(worldscratch_div_id_49529);\n",
       "                            setInterval(loopscratch_div_id_49529, 1);\n",
       "                            sec.innerHTML = \"\";\n",
       "                         }\n",
       "                         window.setTimeout(start_snapscratch_div_id_49529,500);\n",
       "                         </script>\n",
       "                         \n",
       "\n",
       "                <div id=\"scratch_div_id_49529div\" style=\"position:relative; width:1000px; height:600px;\">\n",
       "                Snap showing up soon...\n",
       "                <canvas id=\"scratch_div_id_49529\" style=\"width:1000px; height:600px; position:relative; \" />\n",
       "                </div>\n",
       "                \n"
      ],
      "text/plain": [
       "<IPython.core.display.HTML object>"
      ]
     },
     "execution_count": 2,
     "metadata": {},
     "output_type": "execute_result"
    }
   ],
   "source": [
    "%snap"
   ]
  },
  {
   "cell_type": "code",
   "execution_count": null,
   "metadata": {
    "collapsed": true
   },
   "outputs": [],
   "source": []
  }
 ],
 "metadata": {
  "kernelspec": {
   "display_name": "Python 3",
   "language": "python",
   "name": "python3"
  },
  "language_info": {
   "codemirror_mode": {
    "name": "ipython",
    "version": 3
   },
   "file_extension": ".py",
   "mimetype": "text/x-python",
   "name": "python",
   "nbconvert_exporter": "python",
   "pygments_lexer": "ipython3",
   "version": "3.4.3"
  }
 },
 "nbformat": 4,
 "nbformat_minor": 0
}
