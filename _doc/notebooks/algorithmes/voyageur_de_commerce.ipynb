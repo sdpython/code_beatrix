{
 "cells": [
  {
   "cell_type": "markdown",
   "metadata": {},
   "source": [
    "# Voyageur de commerce"
   ]
  },
  {
   "cell_type": "markdown",
   "metadata": {},
   "source": [
    "**Instructions :**\n",
    "    \n",
    "* éxecuter les deux premières lignes\n",
    "* cliquer un peu partout pour ajouter des points\n",
    "* exécuter l'avant-dernière cellule pour voir le plus chemin obtenu avec un algorithme très simple\n",
    "* la dernière cellule vous donne les coordonnées des points\n",
    "\n",
    "L'algorithme en question est très simple : on permute deux points au hasard jusqu'à ce que cela n'améliore plus. Il est très mauvais quand il y a beaucoup de points et le résultat change quasiment à chaque fois qu'on le relance."
   ]
  },
  {
   "cell_type": "code",
   "execution_count": 3,
   "metadata": {
    "collapsed": false
   },
   "outputs": [],
   "source": [
    "import code_beatrix\n",
    "from code_beatrix.ipythonhelper import display_canvas_point\n,"
    "%load_ext code_beatrix"
   ]
  },
  {
   "cell_type": "code",
   "execution_count": 4,
   "metadata": {
    "collapsed": false
   },
   "outputs": [],
   "source": [
    "import code_beatrix.automation.notebook_const_helper as const\n",
    "points = const.voyageur_de_commerce_points()"
   ]
  },
  {
   "cell_type": "code",
   "execution_count": 5,
   "metadata": {
    "collapsed": false
   },
   "outputs": [
    {
     "data": {
      "text/html": [
       "\n",
       "    <div id=\"tspchart\"></div>\n",
       "    "
      ]
     },
     "metadata": {},
     "output_type": "display_data"
    },
    {
     "data": {
      "application/javascript": [
       "$.getScript(\"http://rawgithub.com/mbostock/d3/master/d3.min.js\", function () {\n",
       "\n",
       "    var r;\n",
       "\n",
       "    var command0 =\"points=[]\";\n",
       "    var kernel = IPython.notebook.kernel;\n",
       "    kernel.execute(command0);\n",
       "\n",
       "    var vis = d3.select(\"#tspchart\").append(\"svg\")\n",
       "        .attr(\"width\", 800)\n",
       "        .attr(\"height\", 400)\n",
       "        .style('border', '1px solid black')\n",
       "        .on(\"mousedown\", mousedown)\n",
       "        ;\n",
       "\n",
       "    function mousedown() {\n",
       "        var m = d3.mouse(this);\n",
       "        r = vis.append(\"rect\")\n",
       "            .attr(\"class\", \"myrect\")\n",
       "            .attr(\"style\", \"fill:rgb(0,0,255);stroke-width:3;stroke:rgb(0,0,255);\")\n",
       "            .attr(\"x\", m[0])\n",
       "            .attr(\"y\", m[1])\n",
       "            .attr(\"width\", 5)\n",
       "            .attr(\"height\", 5);\n",
       "        var command = \"points.append( (\" + m[0] + \", -\" + m[1] + \") )\";\n",
       "        kernel.execute(command);\n",
       "    }\n",
       "    });\n"
      ]
     },
     "metadata": {},
     "output_type": "display_data"
    },
    {
     "data": {
      "text/plain": [
       "[]"
      ]
     },
     "execution_count": 5,
     "metadata": {},
     "output_type": "execute_result"
    }
   ],
   "source": [
    "display_canvas_point(\"tspchart\", var_name=\"points\")"
   ]
  },
  {
   "cell_type": "code",
   "execution_count": 6,
   "metadata": {
    "collapsed": false
   },
   "outputs": [
    {
     "name": "stdout",
     "output_type": "stream",
     "text": [
      "Populating the interactive namespace from numpy and matplotlib\n"
     ]
    }
   ],
   "source": [
    "%pylab inline"
   ]
  },
  {
   "cell_type": "code",
   "execution_count": 7,
   "metadata": {
    "collapsed": false
   },
   "outputs": [
    {
     "data": {
      "text/plain": [
       "<matplotlib.axes._subplots.AxesSubplot at 0x8d78278>"
      ]
     },
     "execution_count": 7,
     "metadata": {},
     "output_type": "execute_result"
    },
    {
     "data": {
      "image/png": "iVBORw0KGgoAAAANSUhEUgAAAtIAAAFwCAYAAACVVpzSAAAABHNCSVQICAgIfAhkiAAAAAlwSFlz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\nAAAASUVORK5CYII=\n",
      "text/plain": [
       "<matplotlib.figure.Figure at 0x8d60ac8>"
      ]
     },
     "metadata": {},
     "output_type": "display_data"
    }
   ],
   "source": [
    "from code_beatrix.algorithm import voyageur_commerce_simple, plot_circuit\n",
    "points = voyageur_commerce_simple(points)\n",
    "plot_circuit(points, figsize=(12,6))"
   ]
  },
  {
   "cell_type": "code",
   "execution_count": 8,
   "metadata": {
    "collapsed": false
   },
   "outputs": [
    {
     "data": {
      "text/plain": [
       "[(173.06666564941406, -108.68331909179688),\n",
       " (192.06666564941406, -174.68331909179688),\n",
       " (173.06666564941406, -207.68331909179688),\n",
       " (184.06666564941406, -224.68331909179688),\n",
       " (288.066650390625, -169.68331909179688),\n",
       " (338.066650390625, -100.68331909179688),\n",
       " (459.066650390625, -85.68331909179688),\n",
       " (573.066650390625, -93.68331909179688),\n",
       " (642.066650390625, -122.68331909179688),\n",
       " (639.066650390625, -166.68331909179688),\n",
       " (598.066650390625, -168.68331909179688),\n",
       " (460.066650390625, -160.68331909179688),\n",
       " (365.066650390625, -159.68331909179688),\n",
       " (324.066650390625, -243.68331909179688),\n",
       " (470.066650390625, -236.68331909179688),\n",
       " (610.066650390625, -255.68331909179688),\n",
       " (630.066650390625, -308.6833190917969),\n",
       " (601.066650390625, -326.6833190917969),\n",
       " (534.066650390625, -333.6833190917969),\n",
       " (377.066650390625, -319.6833190917969),\n",
       " (286.066650390625, -312.6833190917969),\n",
       " (229.06666564941406, -311.6833190917969),\n",
       " (184.06666564941406, -332.683349609375),\n",
       " (142.06666564941406, -352.683349609375),\n",
       " (78.06666564941406, -355.683349609375),\n",
       " (60.06666564941406, -311.683349609375),\n",
       " (60.06666564941406, -228.68333435058594),\n",
       " (63.06666564941406, -144.68333435058594),\n",
       " (60.06666564941406, -109.68333435058594)]"
      ]
     },
     "execution_count": 8,
     "metadata": {},
     "output_type": "execute_result"
    }
   ],
   "source": [
    "points"
   ]
  },
  {
   "cell_type": "markdown",
   "metadata": {},
   "source": [
    "Pour vous inspirer, vous pouvez regarder code de la fonction [voyageur_commerce_simple](http://lesenfantscodaient.fr/_modules/code_beatrix/algorithm/tsp.html#voyageur_commerce_simple)."
   ]
  },
  {
   "cell_type": "code",
   "execution_count": null,
   "metadata": {
    "collapsed": false
   },
   "outputs": [],
   "source": []
  }
 ],
 "metadata": {
  "kernelspec": {
   "display_name": "Python 3",
   "language": "python",
   "name": "python3"
  },
  "language_info": {
   "codemirror_mode": {
    "name": "ipython",
    "version": 3
   },
   "file_extension": ".py",
   "mimetype": "text/x-python",
   "name": "python",
   "nbconvert_exporter": "python",
   "pygments_lexer": "ipython3",
   "version": "3.4.3"
  }
 },
 "nbformat": 4,
 "nbformat_minor": 0
}
