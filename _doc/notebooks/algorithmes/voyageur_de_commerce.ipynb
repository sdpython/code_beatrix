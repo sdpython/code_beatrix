{
 "metadata": {
  "name": "",
  "signature": "sha256:f5a71200586eec46a8dba551f62975c2c80c4457239223efbe16d46b674246b1"
 },
 "nbformat": 3,
 "nbformat_minor": 0,
 "worksheets": [
  {
   "cells": [
    {
     "cell_type": "heading",
     "level": 1,
     "metadata": {},
     "source": [
      "Voyageur de commerce"
     ]
    },
    {
     "cell_type": "markdown",
     "metadata": {},
     "source": [
      "**Instructions :**\n",
      "    \n",
      "* \u00e9xecuter les deux premi\u00e8res lignes\n",
      "* cliquer un peu partout pour ajouter des points\n",
      "* ex\u00e9cuter l'avant-derni\u00e8re cellule pour voir le plus chemin obtenu avec un algorithme tr\u00e8s simple\n",
      "* la derni\u00e8re cellule vous donne les coordonn\u00e9es des points\n",
      "\n",
      "L'algorithme en question est tr\u00e8s simple : on permute deux points au hasard jusqu'\u00e0 ce que cela n'am\u00e9liore plus. Il est tr\u00e8s mauvais quand il y a beaucoup de points et le r\u00e9sultat change quasiment \u00e0 chaque fois qu'on le relance."
     ]
    },
    {
     "cell_type": "code",
     "collapsed": false,
     "input": [
      "import code_beatrix\n",
      "from code_beatrix.nbdrawing import display_canvas_point"
     ],
     "language": "python",
     "metadata": {},
     "outputs": [],
     "prompt_number": 1
    },
    {
     "cell_type": "code",
     "collapsed": false,
     "input": [
      "display_canvas_point(\"tspchart\", var_name=\"points\")"
     ],
     "language": "python",
     "metadata": {},
     "outputs": [
      {
       "html": [
        "\n",
        "    <div id=\"tspchart\"></div>\n",
        "    "
       ],
       "metadata": {},
       "output_type": "display_data"
      },
      {
       "javascript": [
        "$.getScript(\"http://rawgithub.com/mbostock/d3/master/d3.min.js\", function () {\n",
        "\n",
        "    var r;\n",
        "    \n",
        "    var command0 =\"points=[]\";\n",
        "    var kernel = IPython.notebook.kernel;\n",
        "    kernel.execute(command0);\n",
        "\n",
        "    var vis = d3.select(\"#tspchart\").append(\"svg\")\n",
        "        .attr(\"width\", 800)\n",
        "        .attr(\"height\", 400)\n",
        "        .style('border', '1px solid black')\n",
        "        .on(\"mousedown\", mousedown)\n",
        "        ;\n",
        "\n",
        "    function mousedown() {\n",
        "        var m = d3.mouse(this);\n",
        "        r = vis.append(\"rect\")\n",
        "            .attr(\"class\", \"myrect\")\n",
        "            .attr(\"style\", \"fill:rgb(0,0,255);stroke-width:3;stroke:rgb(0,0,255);\")\n",
        "            .attr(\"x\", m[0])\n",
        "            .attr(\"y\", m[1])\n",
        "            .attr(\"width\", 5)\n",
        "            .attr(\"height\", 5);\n",
        "        var command = \"points.append( (\" + m[0] + \", -\" + m[1] + \") )\";\n",
        "        kernel.execute(command);\n",
        "    }\n",
        "    });\n"
       ],
       "metadata": {},
       "output_type": "display_data"
      },
      {
       "metadata": {},
       "output_type": "pyout",
       "prompt_number": 9,
       "text": [
        "[]"
       ]
      }
     ],
     "prompt_number": 9
    },
    {
     "cell_type": "code",
     "collapsed": false,
     "input": [
      "# ne pas ex\u00e9cuter cette commande, elle sert juste pour la documentation\n",
      "points=[(82.61666870117188, -83.01666259765625),  (248.61666870117188, -78.01666259765625),  (408.6166687011719, -80.01666259765625),\n",
      " (606.61669921875, -99.01666259765625),  (526.61669921875, -238.01666259765625),  (423.6166687011719, -263.01666259765625), \n",
      " (225.61666870117188, -266.01666259765625),  (88.61666870117188, -265.01666259765625),  (69.61666870117188, -174.01666259765625)]"
     ],
     "language": "python",
     "metadata": {},
     "outputs": [],
     "prompt_number": 2
    },
    {
     "cell_type": "code",
     "collapsed": false,
     "input": [
      "from code_beatrix.algorithm import voyageur_commerce_simple, plot_circuit\n",
      "points = voyageur_commerce_simple(points)\n",
      "plot_circuit(points, figsize=(12,4))"
     ],
     "language": "python",
     "metadata": {},
     "outputs": [
      {
       "metadata": {},
       "output_type": "pyout",
       "prompt_number": 5,
       "text": [
        "<matplotlib.axes._subplots.AxesSubplot at 0x711ba58>"
       ]
      },
      {
       "metadata": {},
       "output_type": "display_data",
       "png": "[encoded data removed]",
       "text": [
        "<matplotlib.figure.Figure at 0x757b278>"
       ]
      }
     ],
     "prompt_number": 5
    },
    {
     "cell_type": "code",
     "collapsed": false,
     "input": [
      "points"
     ],
     "language": "python",
     "metadata": {},
     "outputs": [
      {
       "metadata": {},
       "output_type": "pyout",
       "prompt_number": 6,
       "text": [
        "[(82.61666870117188, -83.01666259765625),\n",
        " (248.61666870117188, -78.01666259765625),\n",
        " (408.6166687011719, -80.01666259765625),\n",
        " (606.61669921875, -99.01666259765625),\n",
        " (526.61669921875, -238.01666259765625),\n",
        " (423.6166687011719, -263.01666259765625),\n",
        " (225.61666870117188, -266.01666259765625),\n",
        " (88.61666870117188, -265.01666259765625),\n",
        " (69.61666870117188, -174.01666259765625)]"
       ]
      }
     ],
     "prompt_number": 6
    },
    {
     "cell_type": "markdown",
     "metadata": {},
     "source": [
      "Pour vous inspirer, vous pouvez regarder code de la fonction [voyageur_commerce_simple](http://lesenfantscodaient.fr/_modules/code_beatrix/algorithm/tsp.html#voyageur_commerce_simple)."
     ]
    },
    {
     "cell_type": "code",
     "collapsed": false,
     "input": [],
     "language": "python",
     "metadata": {},
     "outputs": []
    }
   ],
   "metadata": {}
  }
 ]
}