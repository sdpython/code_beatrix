{
 "metadata": {
  "name": "",
  "signature": "sha256:dfb3bedf4a1d80bf41bd6b46fd3cc7ae49b398c0393ca643b5f6ef1c8e7e9828"
 },
 "nbformat": 3,
 "nbformat_minor": 0,
 "worksheets": [
  {
   "cells": [
    {
     "cell_type": "heading",
     "level": 1,
     "metadata": {},
     "source": [
      "Voyageur de commerce"
     ]
    },
    {
     "cell_type": "markdown",
     "metadata": {},
     "source": [
      "**Instructions :**\n",
      "    \n",
      "* \u00e9xecuter les deux premi\u00e8res lignes\n",
      "* cliquer un peu partout pour ajouter des points\n",
      "* ex\u00e9cuter l'avant-derni\u00e8re cellule pour voir le plus chemin obtenu avec un algorithme tr\u00e8s simple\n",
      "* la derni\u00e8re cellule vous donne les coordonn\u00e9es des points\n",
      "\n",
      "L'algorithme en question est tr\u00e8s simple : on permute deux points au hasard jusqu'\u00e0 ce que cela n'am\u00e9liore plus. Il est tr\u00e8s mauvais quand il y a beaucoup de points et le r\u00e9sultat change quasiment \u00e0 chaque fois qu'on le relance."
     ]
    },
    {
     "cell_type": "code",
     "collapsed": false,
     "input": [
      "import code_beatrix\n",
      "from code_beatrix.nbdrawing import display_canvas_point"
     ],
     "language": "python",
     "metadata": {},
     "outputs": [],
     "prompt_number": 1
    },
    {
     "cell_type": "code",
     "collapsed": false,
     "input": [
      "display_canvas_point(\"tspchart\", var_name=\"points\")"
     ],
     "language": "python",
     "metadata": {},
     "outputs": [
      {
       "html": [
        "\n",
        "    <div id=\"tspchart\"></div>\n",
        "    "
       ],
       "metadata": {},
       "output_type": "display_data"
      },
      {
       "javascript": [
        "$.getScript(\"http://rawgithub.com/mbostock/d3/master/d3.min.js\", function () {\n",
        "\n",
        "    var r;\n",
        "\n",
        "    var command0 =\"points=[]\";\n",
        "    var kernel = IPython.notebook.kernel;\n",
        "    kernel.execute(command0);\n",
        "\n",
        "    var vis = d3.select(\"#tspchart\").append(\"svg\")\n",
        "        .attr(\"width\", 800)\n",
        "        .attr(\"height\", 400)\n",
        "        .style('border', '1px solid black')\n",
        "        .on(\"mousedown\", mousedown)\n",
        "        ;\n",
        "\n",
        "    function mousedown() {\n",
        "        var m = d3.mouse(this);\n",
        "        r = vis.append(\"rect\")\n",
        "            .attr(\"class\", \"myrect\")\n",
        "            .attr(\"style\", \"fill:rgb(0,0,255);stroke-width:3;stroke:rgb(0,0,255);\")\n",
        "            .attr(\"x\", m[0])\n",
        "            .attr(\"y\", m[1])\n",
        "            .attr(\"width\", 5)\n",
        "            .attr(\"height\", 5);\n",
        "        var command = \"points.append( (\" + m[0] + \", -\" + m[1] + \") )\";\n",
        "        kernel.execute(command);\n",
        "    }\n",
        "    });\n"
       ],
       "metadata": {},
       "output_type": "display_data"
      },
      {
       "metadata": {},
       "output_type": "pyout",
       "prompt_number": 2,
       "text": [
        "[]"
       ]
      }
     ],
     "prompt_number": 2
    },
    {
     "cell_type": "code",
     "collapsed": false,
     "input": [
      "# ne pas ex\u00e9cuter cette commande, elle sert juste pour la documentation\n",
      "points=[(533.61669921875, -201.39999389648438),\n",
      " (451.6166687011719, -201.39999389648438),\n",
      " (426.6166687011719, -303.3999938964844),\n",
      " (522.61669921875, -309.3999938964844),\n",
      " (585.61669921875, -310.3999938964844),\n",
      " (625.61669921875, -311.3999938964844),\n",
      " (682.61669921875, -300.3999938964844),\n",
      " (662.61669921875, -188.39999389648438),\n",
      " (637.61669921875, -81.4000015258789),\n",
      " (550.61669921875, -74.4000015258789),\n",
      " (402.6166687011719, -70.4000015258789),\n",
      " (283.6166687011719, -70.4000015258789),\n",
      " (281.6166687011719, -139.39999389648438),\n",
      " (123.61666870117188, -74.4000015258789),\n",
      " (170.61666870117188, -200.39999389648438),\n",
      " (83.61666870117188, -212.39999389648438),\n",
      " (95.61666870117188, -315.3999938964844),\n",
      " (151.61666870117188, -327.3999938964844),\n",
      " (273.6166687011719, -315.3999938964844),\n",
      " (358.6166687011719, -205.39999389648438),\n",
      " (364.6166687011719, -138.39999389648438),\n",
      " (443.6166687011719, -138.39999389648438),\n",
      " (516.61669921875, -138.39999389648438),\n",
      " (552.61669921875, -141.39999389648438)]"
     ],
     "language": "python",
     "metadata": {},
     "outputs": [],
     "prompt_number": 4
    },
    {
     "cell_type": "code",
     "collapsed": false,
     "input": [
      "from code_beatrix.algorithm import voyageur_commerce_simple, plot_circuit\n",
      "points = voyageur_commerce_simple(points)\n",
      "plot_circuit(points, figsize=(12,6))"
     ],
     "language": "python",
     "metadata": {},
     "outputs": [
      {
       "metadata": {},
       "output_type": "pyout",
       "prompt_number": 5,
       "text": [
        "<matplotlib.axes._subplots.AxesSubplot at 0x6a2f978>"
       ]
      },
      {
       "metadata": {},
       "output_type": "display_data",
       "png": "[encoded data removed]",
       "text": [
        "<matplotlib.figure.Figure at 0x6a13e48>"
       ]
      }
     ],
     "prompt_number": 5
    },
    {
     "cell_type": "code",
     "collapsed": false,
     "input": [
      "points"
     ],
     "language": "python",
     "metadata": {},
     "outputs": [
      {
       "metadata": {},
       "output_type": "pyout",
       "prompt_number": 10,
       "text": [
        "[(533.61669921875, -201.39999389648438),\n",
        " (451.6166687011719, -201.39999389648438),\n",
        " (426.6166687011719, -303.3999938964844),\n",
        " (522.61669921875, -309.3999938964844),\n",
        " (585.61669921875, -310.3999938964844),\n",
        " (625.61669921875, -311.3999938964844),\n",
        " (682.61669921875, -300.3999938964844),\n",
        " (662.61669921875, -188.39999389648438),\n",
        " (637.61669921875, -81.4000015258789),\n",
        " (550.61669921875, -74.4000015258789),\n",
        " (402.6166687011719, -70.4000015258789),\n",
        " (283.6166687011719, -70.4000015258789),\n",
        " (281.6166687011719, -139.39999389648438),\n",
        " (123.61666870117188, -74.4000015258789),\n",
        " (170.61666870117188, -200.39999389648438),\n",
        " (83.61666870117188, -212.39999389648438),\n",
        " (95.61666870117188, -315.3999938964844),\n",
        " (151.61666870117188, -327.3999938964844),\n",
        " (273.6166687011719, -315.3999938964844),\n",
        " (358.6166687011719, -205.39999389648438),\n",
        " (364.6166687011719, -138.39999389648438),\n",
        " (443.6166687011719, -138.39999389648438),\n",
        " (516.61669921875, -138.39999389648438),\n",
        " (552.61669921875, -141.39999389648438)]"
       ]
      }
     ],
     "prompt_number": 10
    },
    {
     "cell_type": "markdown",
     "metadata": {},
     "source": [
      "Pour vous inspirer, vous pouvez regarder code de la fonction [voyageur_commerce_simple](http://lesenfantscodaient.fr/_modules/code_beatrix/algorithm/tsp.html#voyageur_commerce_simple)."
     ]
    },
    {
     "cell_type": "code",
     "collapsed": false,
     "input": [],
     "language": "python",
     "metadata": {},
     "outputs": []
    }
   ],
   "metadata": {}
  }
 ]
}