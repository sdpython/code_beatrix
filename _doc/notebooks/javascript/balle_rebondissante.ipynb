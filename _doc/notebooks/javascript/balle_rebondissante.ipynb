{
  "cells": [
    {
      "cell_type": "markdown",
      "metadata": {},
      "source": [
        "# Balle rebondissante\n",
        "\n",
        "C'est un exemple extrait d'un tutorial pour montrer comment faire du javascript depuis un notebook. Le code source est sur [fiddle](https://jsfiddle.net/api/mdn/), le tutoriel est accessible sur [Mozilla Developer Network](https://developer.mozilla.org/en-US/docs/Web/API/Canvas_API/Tutorial/Advanced_animations)."
      ]
    },
    {
      "cell_type": "markdown",
      "metadata": {},
      "source": [
        "On commence par ajouter du code HTML pour recevoir le r\u00e9sultat du javascript. Tout se passera dans cette fen\u00eatre m\u00eame s'il faudra ex\u00e9cuter la cellule qui suit celle-ci pour y voir quelque chose."
      ]
    },
    {
      "cell_type": "code",
      "execution_count": 1,
      "metadata": {},
      "outputs": [
        {
          "data": {
            "text/html": [
              "<canvas id=\"canvas\" style=\"border: 1px solid\" width=\"600\" height=\"300\"></canvas>"
            ],
            "text/plain": [
              "<IPython.core.display.HTML object>"
            ]
          },
          "execution_count": 2,
          "metadata": {},
          "output_type": "execute_result"
        }
      ],
      "source": [
        "from IPython.display import HTML, Javascript\n",
        "HTML(\"\"\"<canvas id=\"canvas\" style=\"border: 1px solid\" width=\"600\" height=\"300\"></canvas>\"\"\")"
      ]
    },
    {
      "cell_type": "markdown",
      "metadata": {},
      "source": [
        "Le code Javscript qui suit va \u00eatre ajout\u00e9 \u00e0 celui du notebook. Il s'active d\u00e8s que le curseur passe au-dessus du cadre qui pr\u00e9c\u00e8de."
      ]
    },
    {
      "cell_type": "code",
      "execution_count": 2,
      "metadata": {},
      "outputs": [
        {
          "data": {
            "application/javascript": [
              "\n",
              "var canvas = document.getElementById('canvas');\n",
              "var ctx = canvas.getContext('2d');\n",
              "var raf;\n",
              "\n",
              "var ball = {\n",
              "  x: 100,\n",
              "  y: 100,\n",
              "  vx: 5,\n",
              "  vy: 2,\n",
              "  radius: 25,\n",
              "  color: 'blue',\n",
              "  draw: function() {\n",
              "    ctx.beginPath();\n",
              "    ctx.arc(this.x, this.y, this.radius, 0, Math.PI * 2, true);\n",
              "    ctx.closePath();\n",
              "    ctx.fillStyle = this.color;\n",
              "    ctx.fill();\n",
              "  }\n",
              "};\n",
              "\n",
              "function draw() {\n",
              "  ctx.clearRect(0,0, canvas.width, canvas.height);\n",
              "  ball.draw();\n",
              "  ball.x += ball.vx;\n",
              "  ball.y += ball.vy;\n",
              "  ball.vy *= .99;\n",
              "  ball.vy += .25;\n",
              "\n",
              "  if (ball.y + ball.vy > canvas.height ||\n",
              "      ball.y + ball.vy < 0) {\n",
              "    ball.vy = -ball.vy;\n",
              "  }\n",
              "  if (ball.x + ball.vx > canvas.width ||\n",
              "      ball.x + ball.vx < 0) {\n",
              "    ball.vx = -ball.vx;\n",
              "  }\n",
              "\n",
              "  raf = window.requestAnimationFrame(draw);\n",
              "}\n",
              "\n",
              "canvas.addEventListener('mouseover', function(e) {\n",
              "  raf = window.requestAnimationFrame(draw);\n",
              "});\n",
              "\n",
              "canvas.addEventListener('mouseout', function(e) {\n",
              "  window.cancelAnimationFrame(raf);\n",
              "});\n",
              "\n",
              "ball.draw();\n"
            ],
            "text/plain": [
              "<IPython.core.display.Javascript object>"
            ]
          },
          "execution_count": 3,
          "metadata": {},
          "output_type": "execute_result"
        }
      ],
      "source": [
        "Javascript(\"\"\"\n",
        "var canvas = document.getElementById('canvas');\n",
        "var ctx = canvas.getContext('2d');\n",
        "var raf;\n",
        "\n",
        "var ball = {\n",
        "  x: 100,\n",
        "  y: 100,\n",
        "  vx: 5,\n",
        "  vy: 2,\n",
        "  radius: 25,\n",
        "  color: 'blue',\n",
        "  draw: function() {\n",
        "    ctx.beginPath();\n",
        "    ctx.arc(this.x, this.y, this.radius, 0, Math.PI * 2, true);\n",
        "    ctx.closePath();\n",
        "    ctx.fillStyle = this.color;\n",
        "    ctx.fill();\n",
        "  }\n",
        "};\n",
        "\n",
        "function draw() {\n",
        "  ctx.clearRect(0,0, canvas.width, canvas.height);\n",
        "  ball.draw();\n",
        "  ball.x += ball.vx;\n",
        "  ball.y += ball.vy;\n",
        "  ball.vy *= .99;\n",
        "  ball.vy += .25;\n",
        "\n",
        "  if (ball.y + ball.vy > canvas.height ||\n",
        "      ball.y + ball.vy < 0) {\n",
        "    ball.vy = -ball.vy;\n",
        "  }\n",
        "  if (ball.x + ball.vx > canvas.width ||\n",
        "      ball.x + ball.vx < 0) {\n",
        "    ball.vx = -ball.vx;\n",
        "  }\n",
        "\n",
        "  raf = window.requestAnimationFrame(draw);\n",
        "}\n",
        "\n",
        "canvas.addEventListener('mouseover', function(e) {\n",
        "  raf = window.requestAnimationFrame(draw);\n",
        "});\n",
        "\n",
        "canvas.addEventListener('mouseout', function(e) {\n",
        "  window.cancelAnimationFrame(raf);\n",
        "});\n",
        "\n",
        "ball.draw();\n",
        "\"\"\")"
      ]
    },
    {
      "cell_type": "markdown",
      "metadata": {},
      "source": [
        "Vous devriez voir quelque chose comme ceci :"
      ]
    },
    {
      "cell_type": "code",
      "execution_count": 3,
      "metadata": {},
      "outputs": [
        {
          "data": {
            "image/png": "[encoded data removed]",
            "text/plain": [
              "<IPython.core.display.Image object>"
            ]
          },
          "execution_count": 4,
          "metadata": {
            "image/png": {
              "width": "50%"
            }
          },
          "output_type": "execute_result"
        }
      ],
      "source": [
        "from pyquickhelper.helpgen import NbImage\n",
        "NbImage(\"balle.png\", width=\"50%\")"
      ]
    },
    {
      "cell_type": "code",
      "execution_count": 4,
      "metadata": {
        "collapsed": true
      },
      "outputs": [],
      "source": []
    }
  ],
  "metadata": {
    "kernelspec": {
      "display_name": "Python 3",
      "language": "python",
      "name": "python3"
    },
    "language_info": {
      "codemirror_mode": {
        "name": "ipython",
        "version": 3
      },
      "file_extension": ".py",
      "mimetype": "text/x-python",
      "name": "python",
      "nbconvert_exporter": "python",
      "pygments_lexer": "ipython3",
      "version": "3.6.1"
    }
  },
  "nbformat": 4,
  "nbformat_minor": 2
}